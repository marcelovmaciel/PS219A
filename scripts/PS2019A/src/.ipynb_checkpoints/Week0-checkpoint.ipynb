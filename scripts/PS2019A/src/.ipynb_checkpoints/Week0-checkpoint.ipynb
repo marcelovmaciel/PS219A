{
 "cells": [
  {
   "cell_type": "code",
   "execution_count": null,
   "id": "e9bfc265",
   "metadata": {},
   "outputs": [],
   "source": []
  }
 ],
 "metadata": {
  "kernelspec": {
   "display_name": "Julia 1.6.2",
   "language": "julia",
   "name": "julia-1.6"
  }
 },
 "nbformat": 4,
 "nbformat_minor": 5
}
